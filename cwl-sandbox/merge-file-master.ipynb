{
 "metadata": {
  "name": "",
  "signature": "sha256:5a8a09f7a1ba7880c3d266e5a0afa650e7c23711b0e4e7dd83b06b5773df5e66"
 },
 "nbformat": 3,
 "nbformat_minor": 0,
 "worksheets": [
  {
   "cells": [
    {
     "cell_type": "code",
     "collapsed": false,
     "input": [
      "import numpy as np\n",
      "import pandas as pd\n",
      "import os\n",
      "from astropy import units as u\n",
      "from astropy.coordinates import SkyCoord\n",
      "import matplotlib.pyplot as plt\n",
      "\n",
      "outfile = \"catalog-test2.txt\"\n",
      "try:\n",
      "    os.remove(outfile)\n",
      "except OSError:\n",
      "    pass\n",
      "\n",
      "## read in data\n",
      "print \"loading catalog . . .\"\n",
      "data = pd.read_table(\"stripe82candidateVar_v1.1.dat\",header=None,sep=\" \",\n",
      "                     skiprows=42,skipinitialspace=True)\n",
      "del data[17]\n",
      "data.columns = [\"ID\",\"ra\",\"dec\",\"P\",\"r\",\"ug\",\"gr\",\"ri\",\"iz\",\"gN\",\"gAmpl\",\"rN\",\"rAmpl\",\"iN\",\"iAmpl\",\"zQSO\",\"MiQSO\"]\n",
      "data['cl'] = \"unknown\"\n",
      "data['Cat_P'] = 'n/a' #Catalina Period\n",
      "data['Cat_mag'] = 'n/a' #Catalina V magnitude\n",
      "\n",
      "############################BEGINNING OF CATALINA MERGER##########################################\n",
      "# merge catalina catalog \n",
      "print \"Merging Catalina Catalog . . . \"\n",
      "#creates a nice data array\n",
      "catalina = pd.read_table(\"catalina-catalog-reduced.txt\",\n",
      "                       header=1,delim_whitespace=True,\n",
      "                       skipinitialspace=True,comment=\"#\",names=['Catalina_Surveys_ID','Numerical_ID','ra',\n",
      "                             'dec','V_(mag)','Period_(days)','Amplitude','Number_Obs','Var_Type','ra_deg','dec_deg'])\n",
      "\n",
      "#create the catalina coordinate list\n",
      "c1 = SkyCoord(ra = catalina['ra_deg'], dec=catalina['dec_deg'], unit=(u.degree,u.degree))\n",
      "\n",
      "#create the stripe-82 coordinate list\n",
      "catalog = SkyCoord(ra=np.array(data['ra'])*u.degree, dec=np.array(data['dec'])*u.degree)\n",
      "\n",
      "data['g'] = data['gr'] + data['r'] \n",
      "data['v'] = data['g'] - 0.5784*data['gr'] - 0.0038\n",
      "\n",
      "#compare the two\n",
      "idx, d2d, d3d = c1.match_to_catalog_sky(catalog)\n",
      "#eliminates all matches that have too big of a separation\n",
      "idy =  np.where((d2d.arcsec) < 5)\n",
      "\n",
      "#this was included in the code\n",
      "#I merely modified it for the catalina catalog\n",
      "catalina_new = {'ra': np.array(data['ra'])[idx[idy]], 'dec': np.array(data['dec'])[idx[idy]], \n",
      "                'classecl':np.array(catalina['Var_Type'])[idy], 'cat_p':np.array(catalina['Period_(days)'])[idy],\n",
      "                'v_mag':np.array(catalina['V_(mag)'])[idy]}\n",
      "catalina_new = pd.DataFrame(data=catalina_new)\n",
      "\n",
      "#add the new data to the old catalog\n",
      "data = pd.merge(data,catalina_new,on=['ra','dec'],how='left')\n",
      "ix = np.invert(pd.isnull(data['classecl']))\n",
      "data['cl'][ix] = data['classecl'][ix]\n",
      "data['Cat_P'][ix] = data['cat_p'][ix]\n",
      "data['Cat_mag'][ix] = data['v_mag'][ix]\n",
      "del data['classecl']\n",
      "del data['cat_p']\n",
      "del data['v_mag']\n",
      "\n",
      "###Most types found in https://www.aavso.org/vsx/index.php?view=about.vartypes\n",
      "data['temp_cl'] = ''\n",
      "data['temp_cl'].loc[data['cl']=='unknown']='unknown'\n",
      "data['temp_cl'].loc[data['cl']==1]='ew' #W Ursae Majoris-type eclipsing variables\n",
      "data['temp_cl'].loc[data['cl']==2]='ea' #\u03b2 Persei-type (Algol) eclipsing systems\n",
      "data['temp_cl'].loc[data['cl']==3]='eb' #\u03b2 Lyrae-type eclipsing systems\n",
      "data['temp_cl'].loc[data['cl']==4]='rr_ab' #RR Lyrae variables with asymmetric light curves\n",
      "data['temp_cl'].loc[data['cl']==5]='rr_c' #RR Lyrae variables with nearly symmetric\n",
      "data['temp_cl'].loc[data['cl']==6]='rr_d' #Double-mode RR Lyrae stars which pulsate...\n",
      "data['temp_cl'].loc[data['cl']==7]='bl' #RR Lyrae stars showing the Blazhko effect.\n",
      "data['temp_cl'].loc[data['cl']==8]='rs' #non-eclipsing RS CVn stars\n",
      "data['temp_cl'].loc[data['cl']==9]='acep' #Anomalous Cepheids\n",
      "data['temp_cl'].loc[data['cl']==10]='cep-ii' ####need to confirm which star this is...\n",
      "data['temp_cl'].loc[data['cl']==11]='hads' #High Amplitude \u03b4 Scuti stars\n",
      "data['temp_cl'].loc[data['cl']==12]='lads'\n",
      "data['temp_cl'].loc[data['cl']==13]='lpv' #Long Period Variables \n",
      "data['temp_cl'].loc[data['cl']==14]='ell' #ellipsoidal binary system\n",
      "data['temp_cl'].loc[data['cl']==15]='hump' ####????\n",
      "data['temp_cl'].loc[data['cl']==16]='pceb' #post common envelope binary planetary system\n",
      "data['temp_cl'].loc[data['cl']==17]='ea_up' ####????\n",
      "#print(data.head())\n",
      "data['cl'] = data['temp_cl']\n",
      "del data['temp_cl']\n",
      "\n",
      "#######################################END OF CATALINA MERGER#####################################\n",
      "\n",
      "## QSOs have redshift estimates > 0\n",
      "print \"QSO . . . \"\n",
      "data['cl'][data['zQSO'] > 0.0] = \"QSO\"\n",
      "\n",
      "## merge RR Lyrae from sesar 2010\n",
      "print \"rrlyrae . . . \"\n",
      "rrlyrae = pd.read_table(\"data/rrlyrae.txt\",header=None,sep=\" \",\n",
      "                     skiprows=42,skipinitialspace=True)\n",
      "rrlyrae = rrlyrae[[0,1]]\n",
      "rrlyrae.columns = [\"ID\",\"classrr\"]\n",
      "rrlyrae['classrr'] = ['rr_' + s for s in rrlyrae['classrr']]\n",
      "data = pd.merge(data,rrlyrae,on='ID',how='left')\n",
      "ix = np.invert(pd.isnull(data['classrr']))\n",
      "data['cl'][ix] = data['classrr'][ix]\n",
      "del data['classrr']\n",
      "\n",
      "## merge high-amplitude delta scuti stars from Suveges et al. 2012\n",
      "print \"HADS . . . \"\n",
      "hads = pd.read_table(\"data-controlled/delta_scuti.txt\",header=None,delim_whitespace=True,\n",
      "                     skipinitialspace=True,comment=\"#\")\n",
      "#hads = pd.read_table(\"data-controlled/delta_scuti.txt\",header=None,sep=\" \",skiprows=75,skipinitialspace=True)\n",
      "hads = hads[[1]]\n",
      "hads.columns = [\"ID\"]\n",
      "hads['classdscu'] = pd.Series(['del_scu' for x in range(len(hads.index))])\n",
      "data = pd.merge(data,hads,on='ID',how='left')\n",
      "ix = np.invert(pd.isnull(data['classdscu']))\n",
      "data['cl'][ix] = data['classdscu'][ix]\n",
      "del data['classdscu']\n",
      "\n",
      "## merge RR Lyr from Suveges et al. 2012\n",
      "print \"More RR lyrae . . . \"\n",
      "rr_suve = pd.read_table(\"data-controlled/more_rrlyrae_suveges.txt\",\n",
      "                        header=None,delim_whitespace=True,\n",
      "                        skipinitialspace=True,comment=\"#\")\n",
      "rr_suve = rr_suve[[2,5]]\n",
      "rr_suve.columns = [\"ID\",\"classrrsuv\"]\n",
      "rr_suve[\"ID\"] = pd.Series([int(x) for x in rr_suve[\"ID\"]])\n",
      "data = pd.merge(data,rr_suve,on='ID',how='left')\n",
      "ix = np.invert(pd.isnull(data['classrrsuv']))\n",
      "data['cl'][ix] = data['classrrsuv'][ix]\n",
      "del data['classrrsuv']\n",
      "\n",
      "## merge Double-mode RR Lyr, multiperiodic RR Lyrae candidates and multiperiodic HADS delta scuti stars from Suveges et al. 2012\n",
      "print \"More RR lyrae and HADS . . . \"\n",
      "rrhads = pd.read_table(\"data-controlled/rrlyrae_suveges.txt\",\n",
      "                       header=None,delim_whitespace=True,\n",
      "                       skipinitialspace=True,comment=\"#\")\n",
      "rrhads = rrhads[[1,4]]\n",
      "rrhads.columns = [\"ID\",\"classrrhads\"]\n",
      "data = pd.merge(data,rrhads,on='ID',how='left')\n",
      "ix = np.invert(pd.isnull(data['classrrhads']))\n",
      "data['cl'][ix] = data['classrrhads'][ix]\n",
      "del data['classrrhads']\n",
      "\n",
      "\n",
      "## merge eclipsing binary sources\n",
      "print \"eclipsing binaries . . . \"\n",
      "eclipsing = pd.read_table(\"data/eclipsing_binary.txt\",engine=\"python\",\n",
      "                          header=None,sep=\"\\t\",\n",
      "                          skiprows=4,skipfooter=2,skipinitialspace=True)\n",
      "\n",
      "ra = []\n",
      "dec =[]\n",
      "for i in np.arange(len(eclipsing[0])):\n",
      "    coord = eclipsing[0][i][6:]\n",
      "    h = coord[0:2]\n",
      "    m = coord[2:4]\n",
      "    s = coord[4:9]\n",
      "    de = coord[9:12]\n",
      "    mi = coord[12:14]\n",
      "    se = coord[14:]\n",
      "    coordi = h+\" \"+m+\" \"+s+\" \"+de+\" \"+mi+\" \"+se\n",
      "    c = SkyCoord(coordi, unit=(u.hourangle, u.deg))\n",
      "    #print c.ra.degree,c.dec.degree\n",
      "    ra.append(c.ra.degree)\n",
      "    dec.append(c.dec.degree)\n",
      "\n",
      "c1 = SkyCoord(ra=ra*u.degree, dec=dec*u.degree)\n",
      "catalog = SkyCoord(ra=np.array(data['ra'])*u.degree, dec=np.array(data['dec'])*u.degree)\n",
      "\n",
      "idx, d2d, d3d = c1.match_to_catalog_sky(catalog)\n",
      "idy =  np.where(np.log10(d2d.arcsec) < 0)\n",
      "\n",
      "eclipsing_new = {'ra': np.array(data['ra'])[idx[idy]], 'dec': np.array(data['dec'])[idx[idy]], 'classecl':np.array(eclipsing[4])[idy]}\n",
      "eclipsing_new = pd.DataFrame(data=eclipsing_new)\n",
      "\n",
      "#print eclipsing_new\n",
      "data = pd.merge(data,eclipsing_new,on=['ra','dec'],how='left')\n",
      "ix = np.invert(pd.isnull(data['classecl']))\n",
      "data['cl'][ix] = data['classecl'][ix]\n",
      "del data['classecl']"
     ],
     "language": "python",
     "metadata": {},
     "outputs": [
      {
       "output_type": "stream",
       "stream": "stdout",
       "text": [
        "loading catalog . . .\n",
        "Merging Catalina Catalog . . . "
       ]
      },
      {
       "output_type": "stream",
       "stream": "stderr",
       "text": [
        "-c:57: SettingWithCopyWarning: \n",
        "A value is trying to be set on a copy of a slice from a DataFrame\n",
        "\n",
        "See the the caveats in the documentation: http://pandas.pydata.org/pandas-docs/stable/indexing.html#indexing-view-versus-copy\n",
        "-c:58: SettingWithCopyWarning: \n",
        "A value is trying to be set on a copy of a slice from a DataFrame\n",
        "\n",
        "See the the caveats in the documentation: http://pandas.pydata.org/pandas-docs/stable/indexing.html#indexing-view-versus-copy\n"
       ]
      },
      {
       "output_type": "stream",
       "stream": "stderr",
       "text": [
        "-c:59: SettingWithCopyWarning: \n",
        "A value is trying to be set on a copy of a slice from a DataFrame\n",
        "\n",
        "See the the caveats in the documentation: http://pandas.pydata.org/pandas-docs/stable/indexing.html#indexing-view-versus-copy\n",
        "/usr/local/lib/python2.7/dist-packages/pandas/core/indexing.py:115: SettingWithCopyWarning: \n",
        "A value is trying to be set on a copy of a slice from a DataFrame\n",
        "\n",
        "See the the caveats in the documentation: http://pandas.pydata.org/pandas-docs/stable/indexing.html#indexing-view-versus-copy\n",
        "  self._setitem_with_indexer(indexer, value)\n"
       ]
      },
      {
       "output_type": "stream",
       "stream": "stdout",
       "text": [
        "\n",
        "QSO . . . "
       ]
      },
      {
       "output_type": "stream",
       "stream": "stdout",
       "text": [
        "\n",
        "rrlyrae . . . "
       ]
      },
      {
       "output_type": "stream",
       "stream": "stderr",
       "text": [
        "-c:90: SettingWithCopyWarning: \n",
        "A value is trying to be set on a copy of a slice from a DataFrame\n",
        "\n",
        "See the the caveats in the documentation: http://pandas.pydata.org/pandas-docs/stable/indexing.html#indexing-view-versus-copy\n",
        "-c:101: SettingWithCopyWarning: \n",
        "A value is trying to be set on a copy of a slice from a DataFrame\n",
        "\n",
        "See the the caveats in the documentation: http://pandas.pydata.org/pandas-docs/stable/indexing.html#indexing-view-versus-copy\n"
       ]
      },
      {
       "output_type": "stream",
       "stream": "stdout",
       "text": [
        "\n",
        "HADS . . . "
       ]
      },
      {
       "output_type": "stream",
       "stream": "stdout",
       "text": [
        "\n",
        "More RR lyrae . . . "
       ]
      },
      {
       "output_type": "stream",
       "stream": "stderr",
       "text": [
        "-c:114: SettingWithCopyWarning: \n",
        "A value is trying to be set on a copy of a slice from a DataFrame\n",
        "\n",
        "See the the caveats in the documentation: http://pandas.pydata.org/pandas-docs/stable/indexing.html#indexing-view-versus-copy\n",
        "-c:127: SettingWithCopyWarning: \n",
        "A value is trying to be set on a copy of a slice from a DataFrame\n",
        "\n",
        "See the the caveats in the documentation: http://pandas.pydata.org/pandas-docs/stable/indexing.html#indexing-view-versus-copy\n"
       ]
      },
      {
       "output_type": "stream",
       "stream": "stdout",
       "text": [
        "\n",
        "More RR lyrae and HADS . . . "
       ]
      },
      {
       "output_type": "stream",
       "stream": "stdout",
       "text": [
        "\n",
        "eclipsing binaries . . . "
       ]
      },
      {
       "output_type": "stream",
       "stream": "stderr",
       "text": [
        "-c:139: SettingWithCopyWarning: \n",
        "A value is trying to be set on a copy of a slice from a DataFrame\n",
        "\n",
        "See the the caveats in the documentation: http://pandas.pydata.org/pandas-docs/stable/indexing.html#indexing-view-versus-copy\n",
        "-c:177: SettingWithCopyWarning: \n",
        "A value is trying to be set on a copy of a slice from a DataFrame\n",
        "\n",
        "See the the caveats in the documentation: http://pandas.pydata.org/pandas-docs/stable/indexing.html#indexing-view-versus-copy\n"
       ]
      },
      {
       "output_type": "stream",
       "stream": "stdout",
       "text": [
        "\n"
       ]
      }
     ],
     "prompt_number": 1
    },
    {
     "cell_type": "code",
     "collapsed": false,
     "input": [
      "## output catalog\n",
      "print \"writing catalog . . .\"\n",
      "data.to_csv(outfile,sep=\" \",index=False)"
     ],
     "language": "python",
     "metadata": {},
     "outputs": [
      {
       "output_type": "stream",
       "stream": "stdout",
       "text": [
        "writing catalog . . .\n"
       ]
      }
     ],
     "prompt_number": 2
    },
    {
     "cell_type": "code",
     "collapsed": false,
     "input": [],
     "language": "python",
     "metadata": {},
     "outputs": []
    }
   ],
   "metadata": {}
  }
 ]
}