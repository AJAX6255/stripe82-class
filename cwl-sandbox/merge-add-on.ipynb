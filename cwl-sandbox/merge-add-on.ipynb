{
 "metadata": {
  "name": "",
  "signature": "sha256:f78cfab203ae284d95990da6ea69150c83da5630a6137fd1cc43969e3f2c76ce"
 },
 "nbformat": 3,
 "nbformat_minor": 0,
 "worksheets": [
  {
   "cells": [
    {
     "cell_type": "code",
     "collapsed": false,
     "input": [
      "#all this code was modified from the merge.py file found on github\n",
      "#all comments with only one '#' are my comments\n",
      "#all comments with two '##' are original comments"
     ],
     "language": "python",
     "metadata": {},
     "outputs": [],
     "prompt_number": 1
    },
    {
     "cell_type": "code",
     "collapsed": false,
     "input": [
      "import numpy as np\n",
      "import pandas as pd\n",
      "import os\n",
      "from astropy import units as u\n",
      "from astropy.coordinates import SkyCoord"
     ],
     "language": "python",
     "metadata": {},
     "outputs": [],
     "prompt_number": 3
    },
    {
     "cell_type": "code",
     "collapsed": false,
     "input": [
      "#I have not idea what this is\n",
      "#I'm guessing it establishes the output file but I really just needed it to test the code\n",
      "#it's already included in the merge.py file\n",
      "outfile = \"catalog.txt\"\n",
      "try:\n",
      "    os.remove(outfile)\n",
      "except OSError:\n",
      "    pass\n",
      "\n",
      "#this was also included from the original code\n",
      "## read in data\n",
      "print \"loading catalog . . .\"\n",
      "data = pd.read_table(\"stripe82candidateVar_v1.1.dat\",header=None,sep=\" \",\n",
      "                     skiprows=42,skipinitialspace=True)\n",
      "del data[17]\n",
      "data.columns = [\"ID\",\"ra\",\"dec\",\"P\",\"r\",\"ug\",\"gr\",\"ri\",\"iz\",\"gN\",\"gAmpl\",\"rN\",\"rAmpl\",\"iN\",\"iAmpl\",\"zQSO\",\"MiQSO\"]\n",
      "data['cl'] = \"unknown\""
     ],
     "language": "python",
     "metadata": {},
     "outputs": [
      {
       "output_type": "stream",
       "stream": "stdout",
       "text": [
        "loading catalog . . .\n"
       ]
      }
     ],
     "prompt_number": 4
    },
    {
     "cell_type": "code",
     "collapsed": false,
     "input": [
      "# merge catalina catalog \n",
      "print \"Merging Catalina Catalog . . . \"\n",
      "#creates a nice data array, I have considered including the names=[] parameter for later\n",
      "catalina = pd.read_table(\"catalina-catalog.txt\",\n",
      "                       header=None,delim_whitespace=True,\n",
      "                       skipinitialspace=True,comment=\"#\")\n",
      "\n",
      "#I wanted to look at the formatting\n",
      "print('\\n\\nCatalina Catalog Format')\n",
      "print(catalina.head())\n",
      "print('\\n\\nStandard Catalog Format')\n",
      "print(data.head())"
     ],
     "language": "python",
     "metadata": {},
     "outputs": [
      {
       "output_type": "stream",
       "stream": "stdout",
       "text": [
        "Merging Catalina Catalog . . . \n",
        "\n",
        "\n",
        "Catalina Catalog Format"
       ]
      },
      {
       "output_type": "stream",
       "stream": "stdout",
       "text": [
        "\n",
        "                      0              1            2            3      4  \\\n",
        "0  CSS_J000020.4+103118  1109001041232  00:00:20.41  +10:31:18.9  14.62   \n",
        "1  CSS_J000031.5-084652  1009001044997  00:00:31.50  -08:46:52.3  14.14   \n",
        "2  CSS_J000036.9+412805  1140001063366  00:00:36.94  +41:28:05.7  17.39   \n",
        "3  CSS_J000037.5+390308  1138001069849  00:00:37.55  +39:03:08.1  17.74   \n",
        "4  CSS_J000103.3+105724  1109001050739  00:01:03.37  +10:57:24.4  15.25   \n",
        "\n",
        "           5     6    7  8  \n",
        "0   1.491758  2.39  223  2  \n",
        "1   0.404185  0.12  163  1  \n",
        "2   0.274627  0.73  158  1  \n",
        "3    0.30691  0.23  219  1  \n",
        "4  1.5837582  0.11  223  8  \n",
        "\n",
        "\n",
        "Standard Catalog Format\n",
        "        ID          ra       dec         P      r    ug    gr    ri    iz  gN  \\\n",
        "0  7909262  305.000258  1.002926  0.264939  18.39  2.26  1.05  0.44  0.29  38   \n",
        "1  7909350  304.999558 -1.219199  0.285250  16.93  1.94  0.88  0.30  0.23  36   \n",
        "2  7909380  305.000596  0.579517  0.279029  18.49  2.26  0.61  0.32  0.21  15   \n",
        "3  7909416  305.000342  0.579917  0.626289  16.34  1.06  0.42  0.13  0.00  34   \n",
        "4  7909472  305.000182  0.859918  0.365953  18.82  1.21  0.43  0.20  0.04  33   \n",
        "\n",
        "   gAmpl  rN  rAmpl  iN  iAmpl  zQSO  MiQSO       cl  \n",
        "0  0.327  40  0.250  40  0.267  -9.9   -9.9  unknown  \n",
        "1  0.369  35  0.283  35  0.336  -9.9   -9.9  unknown  \n",
        "2  0.397  16  0.586  17  0.360  -9.9   -9.9  unknown  \n",
        "3  0.183  34  0.204  38  0.211  -9.9   -9.9  unknown  \n",
        "4  0.283  32  0.321  33  0.228  -9.9   -9.9  unknown  \n"
       ]
      }
     ],
     "prompt_number": 5
    },
    {
     "cell_type": "code",
     "collapsed": false,
     "input": [
      "#this function for some reason takes a hefty chunk of time to run\n",
      "\n",
      "#there isn't any sdss id with these that could help us compare them, we have to compare them using their ra and dec\n",
      "#the ra and dec in catalina are in a different format from the catalog \n",
      "#so we have to break them apart and reassemble them\n",
      "#the merge.py file did something very similar\n",
      "\n",
      "#set up empty parameters\n",
      "ra = []\n",
      "dec =[]\n",
      "#loop through the catalina catalog\n",
      "for i in np.arange(len(catalina[2])):\n",
      "    coord_ra = catalina[2][i]\n",
      "    coord_dec = catalina[3][i]\n",
      "    #break up the ra \n",
      "    h = coord_ra[0:2]\n",
      "    m = coord_ra[3:5]\n",
      "    s = coord_ra[7:]\n",
      "    #break up the dec\n",
      "    de = coord_dec[0:3]\n",
      "    mi = coord_dec[4:6]\n",
      "    se = coord_dec[7:]\n",
      "    #reassemble everything\n",
      "    coordi = h+\" \"+m+\" \"+s+\" \"+de+\" \"+mi+\" \"+se\n",
      "    c = SkyCoord(coordi, unit=(u.hourangle, u.deg))\n",
      "    ##print c.ra.degree,c.dec.degree\n",
      "    ra.append(c.ra.degree)\n",
      "    dec.append(c.dec.degree)\n",
      "    \n",
      "#note: I realize this method is a bit of extra work and I have considered that there is a way to have SkyCoord\n",
      "#accept ra and dec in the 00:00:00.00 and +00:00:00.00 format\n",
      "#but I haven't done enough searching for that yet so maybe do that in the future\n",
      "#for now, this works"
     ],
     "language": "python",
     "metadata": {},
     "outputs": [],
     "prompt_number": 6
    },
    {
     "cell_type": "code",
     "collapsed": false,
     "input": [
      "#create the catalina coordinate list\n",
      "c1 = SkyCoord(ra=ra*u.degree, dec=dec*u.degree)"
     ],
     "language": "python",
     "metadata": {},
     "outputs": [],
     "prompt_number": 7
    },
    {
     "cell_type": "code",
     "collapsed": false,
     "input": [
      "#create the stripe-82 coordinate list\n",
      "catalog = SkyCoord(ra=np.array(data['ra'])*u.degree, dec=np.array(data['dec'])*u.degree)"
     ],
     "language": "python",
     "metadata": {},
     "outputs": [],
     "prompt_number": 8
    },
    {
     "cell_type": "code",
     "collapsed": false,
     "input": [
      "#compare the two\n",
      "idx, d2d, d3d = c1.match_to_catalog_sky(catalog)\n",
      "#I'm not sure what this does, but if I had to guess, it just eliminates all matches that have too big of a separation\n",
      "idy =  np.where(np.log10(d2d.arcsec) < 0)"
     ],
     "language": "python",
     "metadata": {},
     "outputs": [],
     "prompt_number": 9
    },
    {
     "cell_type": "code",
     "collapsed": false,
     "input": [
      "#this was included in the code\n",
      "#I merely modified it for the catalina catalog\n",
      "catalina_new = {'ra': np.array(data['ra'])[idx[idy]], 'dec': np.array(data['dec'])[idx[idy]], 'classecl':np.array(catalina[8])[idy]}\n",
      "catalina_new = pd.DataFrame(data=catalina_new)"
     ],
     "language": "python",
     "metadata": {},
     "outputs": [],
     "prompt_number": 10
    },
    {
     "cell_type": "code",
     "collapsed": false,
     "input": [
      "#add the new data to the old catalog, I'm assuming...\n",
      "data = pd.merge(data,catalina_new,on=['ra','dec'],how='left')\n",
      "ix = np.invert(pd.isnull(data['classecl']))\n",
      "data['cl'][ix] = data['classecl'][ix]\n",
      "del data['classecl']\n",
      "\n",
      "## output catalog\n",
      "print \"writing catalog . . .\"\n",
      "data.to_csv(outfile,sep=\" \",index=False)\n",
      "\n",
      "#I don't think it actually manages to write out the last part, since when I look through the catalog.txt, all the \n",
      "#classes say unknown still. This would be one thing to fix.\n",
      "\n",
      "#another thing that needs work is that the catalina catalog doesn't classify objects as rr_ab, rr_c, ew, ea...\n",
      "#it calls them 1, 2, 3, 4, ..., 17 with each number cooresponding to a class\n",
      "#once I figure out how to create the output file, I need to go back and make some replacements in the code \n",
      "#so that each number cooresponds to the label we want\n",
      "#and I have no idea how to do that yet but all in due time...\n",
      "\n",
      "#-Christina"
     ],
     "language": "python",
     "metadata": {},
     "outputs": [
      {
       "output_type": "stream",
       "stream": "stdout",
       "text": [
        "writing catalog . . .\n"
       ]
      },
      {
       "output_type": "stream",
       "stream": "stderr",
       "text": [
        "-c:4: SettingWithCopyWarning: \n",
        "A value is trying to be set on a copy of a slice from a DataFrame\n",
        "\n",
        "See the the caveats in the documentation: http://pandas.pydata.org/pandas-docs/stable/indexing.html#indexing-view-versus-copy\n"
       ]
      }
     ],
     "prompt_number": 11
    },
    {
     "cell_type": "code",
     "collapsed": false,
     "input": [],
     "language": "python",
     "metadata": {},
     "outputs": []
    }
   ],
   "metadata": {}
  }
 ]
}