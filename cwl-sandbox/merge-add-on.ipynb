{
 "metadata": {
  "name": "",
  "signature": "sha256:2b0df11d503860b5e6ea9be173bccef6d5d0b32da7b8f45f8e1e9a72cd311dbd"
 },
 "nbformat": 3,
 "nbformat_minor": 0,
 "worksheets": [
  {
   "cells": [
    {
     "cell_type": "code",
     "collapsed": false,
     "input": [
      "#all this code was modified from the merge.py file found on github\n",
      "#all comments with only one '#' are my comments\n",
      "#all comments with two '##' are original comments"
     ],
     "language": "python",
     "metadata": {},
     "outputs": [],
     "prompt_number": 1
    },
    {
     "cell_type": "code",
     "collapsed": false,
     "input": [
      "import numpy as np\n",
      "import pandas as pd\n",
      "import os\n",
      "from astropy import units as u\n",
      "from astropy.coordinates import SkyCoord\n",
      "import sys"
     ],
     "language": "python",
     "metadata": {},
     "outputs": [],
     "prompt_number": 2
    },
    {
     "cell_type": "code",
     "collapsed": false,
     "input": [
      "#establishes the output file\n",
      "#it's already included in the merge.py file\n",
      "outfile = \"catalog.txt\"\n",
      "try:\n",
      "    os.remove(outfile)\n",
      "except OSError:\n",
      "    pass\n",
      "\n",
      "## read in data\n",
      "print \"loading catalog . . .\"\n",
      "data = pd.read_table(\"stripe82candidateVar_v1.1.dat\",header=None,sep=\" \",\n",
      "                     skiprows=42,skipinitialspace=True)\n",
      "del data[17]\n",
      "data.columns = [\"ID\",\"ra\",\"dec\",\"P\",\"r\",\"ug\",\"gr\",\"ri\",\"iz\",\"gN\",\"gAmpl\",\"rN\",\"rAmpl\",\"iN\",\"iAmpl\",\"zQSO\",\"MiQSO\"]\n",
      "data['cl'] = \"unknown\""
     ],
     "language": "python",
     "metadata": {},
     "outputs": [
      {
       "output_type": "stream",
       "stream": "stdout",
       "text": [
        "loading catalog . . .\n"
       ]
      }
     ],
     "prompt_number": 65
    },
    {
     "cell_type": "code",
     "collapsed": false,
     "input": [
      "# merge catalina catalog \n",
      "print \"Merging Catalina Catalog . . . \"\n",
      "#creates a nice data array\n",
      "catalina = pd.read_table(\"catalina-catalog.txt\",\n",
      "                       header=None,delim_whitespace=True,\n",
      "                       skipinitialspace=True,comment=\"#\",names=['Catalina_Surveys_ID','Numerical_ID','ra','dec','V_(mag)',\n",
      "                                                                'Period_(days)','Amplitude','Number_Obs','Var_Type'])\n",
      "\n",
      "#I wanted to look at the formatting\n",
      "print('\\n\\nCatalina Catalog Format')\n",
      "print(catalina.head())\n",
      "print('\\n\\nStandard Catalog Format')\n",
      "print(data.head())"
     ],
     "language": "python",
     "metadata": {},
     "outputs": [
      {
       "output_type": "stream",
       "stream": "stdout",
       "text": [
        "Merging Catalina Catalog . . . \n",
        "\n",
        "\n",
        "Catalina Catalog Format"
       ]
      },
      {
       "output_type": "stream",
       "stream": "stdout",
       "text": [
        "\n",
        "    Catalina_Surveys_ID   Numerical_ID           ra          dec  V_(mag)  \\\n",
        "0  CSS_J000020.4+103118  1109001041232  00:00:20.41  +10:31:18.9    14.62   \n",
        "1  CSS_J000031.5-084652  1009001044997  00:00:31.50  -08:46:52.3    14.14   \n",
        "2  CSS_J000036.9+412805  1140001063366  00:00:36.94  +41:28:05.7    17.39   \n",
        "3  CSS_J000037.5+390308  1138001069849  00:00:37.55  +39:03:08.1    17.74   \n",
        "4  CSS_J000103.3+105724  1109001050739  00:01:03.37  +10:57:24.4    15.25   \n",
        "\n",
        "  Period_(days)  Amplitude  Number_Obs  Var_Type  \n",
        "0      1.491758       2.39         223         2  \n",
        "1      0.404185       0.12         163         1  \n",
        "2      0.274627       0.73         158         1  \n",
        "3       0.30691       0.23         219         1  \n",
        "4     1.5837582       0.11         223         8  \n",
        "\n",
        "\n",
        "Standard Catalog Format\n",
        "        ID          ra       dec         P      r    ug    gr    ri    iz  gN  \\\n",
        "0  7909262  305.000258  1.002926  0.264939  18.39  2.26  1.05  0.44  0.29  38   \n",
        "1  7909350  304.999558 -1.219199  0.285250  16.93  1.94  0.88  0.30  0.23  36   \n",
        "2  7909380  305.000596  0.579517  0.279029  18.49  2.26  0.61  0.32  0.21  15   \n",
        "3  7909416  305.000342  0.579917  0.626289  16.34  1.06  0.42  0.13  0.00  34   \n",
        "4  7909472  305.000182  0.859918  0.365953  18.82  1.21  0.43  0.20  0.04  33   \n",
        "\n",
        "   gAmpl  rN  rAmpl  iN  iAmpl  zQSO  MiQSO       cl  \n",
        "0  0.327  40  0.250  40  0.267  -9.9   -9.9  unknown  \n",
        "1  0.369  35  0.283  35  0.336  -9.9   -9.9  unknown  \n",
        "2  0.397  16  0.586  17  0.360  -9.9   -9.9  unknown  \n",
        "3  0.183  34  0.204  38  0.211  -9.9   -9.9  unknown  \n",
        "4  0.283  32  0.321  33  0.228  -9.9   -9.9  unknown  \n"
       ]
      }
     ],
     "prompt_number": 50
    },
    {
     "cell_type": "code",
     "collapsed": false,
     "input": [
      "#this function for some reason takes around 6 minutes to run\n",
      "\n",
      "#there isn't any sdss id with these that could help us compare them, we have to compare them using their ra and dec\n",
      "#the ra and dec in catalina are in a different format from the catalog \n",
      "#so we have to break them apart and reassemble them\n",
      "#the merge.py file did something very similar\n",
      "\n",
      "#set up empty parameters\n",
      "ra = []\n",
      "dec =[]\n",
      "#loop through the catalina catalog\n",
      "for i in np.arange(len(catalina['ra'])):\n",
      "    coord_ra = catalina['ra'][i]\n",
      "    coord_dec = catalina['dec'][i]\n",
      "    #break up the ra \n",
      "    h = coord_ra[0:2]\n",
      "    m = coord_ra[3:5]\n",
      "    s = coord_ra[7:]\n",
      "    #break up the dec\n",
      "    de = coord_dec[0:3]\n",
      "    mi = coord_dec[4:6]\n",
      "    se = coord_dec[7:]\n",
      "    #reassemble everything\n",
      "    coordi = h+\" \"+m+\" \"+s+\" \"+de+\" \"+mi+\" \"+se\n",
      "    c = SkyCoord(coordi, unit=(u.hourangle, u.deg))\n",
      "    ##print c.ra.degree,c.dec.degree\n",
      "    ra.append(c.ra.degree)\n",
      "    dec.append(c.dec.degree)\n",
      "    \n",
      "#note: I realize this method is a bit of extra work and I have considered that there is a way to have SkyCoord\n",
      "#accept ra and dec in the 00:00:00.00 and +00:00:00.00 format\n",
      "#but I haven't done enough searching for that yet so maybe do that in the future\n",
      "#for now, this works"
     ],
     "language": "python",
     "metadata": {},
     "outputs": [],
     "prompt_number": 5
    },
    {
     "cell_type": "code",
     "collapsed": false,
     "input": [
      "#create the catalina coordinate list\n",
      "c1 = SkyCoord(ra=ra*u.degree, dec=dec*u.degree)"
     ],
     "language": "python",
     "metadata": {},
     "outputs": [],
     "prompt_number": 21
    },
    {
     "cell_type": "code",
     "collapsed": false,
     "input": [
      "#create the stripe-82 coordinate list\n",
      "catalog = SkyCoord(ra=np.array(data['ra'])*u.degree, dec=np.array(data['dec'])*u.degree)"
     ],
     "language": "python",
     "metadata": {},
     "outputs": [],
     "prompt_number": 22
    },
    {
     "cell_type": "code",
     "collapsed": false,
     "input": [
      "#compare the two\n",
      "idx, d2d, d3d = c1.match_to_catalog_sky(catalog)\n",
      "#eliminates all matches that have too big of a separation\n",
      "idy =  np.where(np.log10(d2d.arcsec) < 0)"
     ],
     "language": "python",
     "metadata": {},
     "outputs": [],
     "prompt_number": 23
    },
    {
     "cell_type": "code",
     "collapsed": false,
     "input": [
      "print(len(idx))\n",
      "print(idy[15:25])\n",
      "print(len(d2d))\n",
      "print(len(data))\n",
      "print(len(catalina))"
     ],
     "language": "python",
     "metadata": {},
     "outputs": [
      {
       "output_type": "stream",
       "stream": "stdout",
       "text": [
        "47055\n",
        "()\n",
        "47055\n",
        "67466\n",
        "47055\n"
       ]
      }
     ],
     "prompt_number": 51
    },
    {
     "cell_type": "code",
     "collapsed": false,
     "input": [
      "#this was included in the code\n",
      "#I merely modified it for the catalina catalog\n",
      "catalina_new = {'ra': np.array(data['ra'])[idx[idy]], 'dec': np.array(data['dec'])[idx[idy]], 'classecl':np.array(catalina['Var_Type'])[idy]}\n",
      "catalina_new = pd.DataFrame(data=catalina_new)\n",
      "print(catalina_new.head())"
     ],
     "language": "python",
     "metadata": {},
     "outputs": [
      {
       "output_type": "stream",
       "stream": "stdout",
       "text": [
        "   classecl       dec         ra\n",
        "0        13  1.146088   8.769948\n",
        "1         1 -1.137451   9.018466\n",
        "2         1  0.232553  14.760161\n",
        "3         1  0.327903  19.787332\n",
        "4         1  0.490731  23.000857\n"
       ]
      }
     ],
     "prompt_number": 52
    },
    {
     "cell_type": "code",
     "collapsed": false,
     "input": [
      "print(len(catalina_new))\n",
      "print(len(catalina_new.loc[catalina_new.classecl==1]))\n",
      "print(len(catalina_new.loc[catalina_new.classecl==2]))\n",
      "print(len(catalina_new.loc[catalina_new.classecl==3]))\n",
      "print(len(catalina_new.loc[catalina_new.classecl==4]))\n",
      "print(len(catalina_new.loc[catalina_new.classecl==5]))\n",
      "print(len(catalina_new.loc[catalina_new.classecl==6]))\n",
      "print(len(catalina_new.loc[catalina_new.classecl==7]))\n",
      "print(len(catalina_new.loc[catalina_new.classecl==8]))\n",
      "print(len(catalina_new.loc[catalina_new.classecl==9]))\n",
      "print(len(catalina_new.loc[catalina_new.classecl==10]))\n",
      "print(len(catalina_new.loc[catalina_new.classecl==11]))\n",
      "print(len(catalina_new.loc[catalina_new.classecl==12]))\n",
      "print(len(catalina_new.loc[catalina_new.classecl==13]))\n",
      "print(len(catalina_new.loc[catalina_new.classecl==14]))\n",
      "print(len(catalina_new.loc[catalina_new.classecl==15]))\n",
      "print(len(catalina_new.loc[catalina_new.classecl==16]))\n",
      "print(len(catalina_new.loc[catalina_new.classecl==17]))"
     ],
     "language": "python",
     "metadata": {},
     "outputs": [
      {
       "output_type": "stream",
       "stream": "stdout",
       "text": [
        "83\n",
        "59\n",
        "6\n",
        "0\n",
        "5\n",
        "10\n",
        "1\n",
        "0\n",
        "0\n",
        "0\n",
        "0\n",
        "0\n",
        "0\n",
        "1\n",
        "0\n",
        "0\n",
        "1\n",
        "0\n"
       ]
      }
     ],
     "prompt_number": 75
    },
    {
     "cell_type": "code",
     "collapsed": false,
     "input": [
      "#add the new data to the old catalog\n",
      "data = pd.merge(data,catalina_new,on=['ra','dec'],how='left')\n",
      "print(data.head())\n",
      "ix = np.invert(pd.isnull(data['classecl']))\n",
      "print(ix.head())\n",
      "data['cl'][ix] = data['classecl'][ix]\n",
      "print(data['cl'].head())\n",
      "del data['classecl']\n",
      "print(data.head())"
     ],
     "language": "python",
     "metadata": {},
     "outputs": [
      {
       "output_type": "stream",
       "stream": "stdout",
       "text": [
        "        ID          ra       dec         P      r    ug    gr    ri    iz  gN  \\\n",
        "0  7909262  305.000258  1.002926  0.264939  18.39  2.26  1.05  0.44  0.29  38   \n",
        "1  7909350  304.999558 -1.219199  0.285250  16.93  1.94  0.88  0.30  0.23  36   \n",
        "2  7909380  305.000596  0.579517  0.279029  18.49  2.26  0.61  0.32  0.21  15   \n",
        "3  7909416  305.000342  0.579917  0.626289  16.34  1.06  0.42  0.13  0.00  34   \n",
        "4  7909472  305.000182  0.859918  0.365953  18.82  1.21  0.43  0.20  0.04  33   \n",
        "\n",
        "   gAmpl  rN  rAmpl  iN  iAmpl  zQSO  MiQSO       cl  classecl  \n",
        "0  0.327  40  0.250  40  0.267  -9.9   -9.9  unknown       NaN  \n",
        "1  0.369  35  0.283  35  0.336  -9.9   -9.9  unknown       NaN  \n",
        "2  0.397  16  0.586  17  0.360  -9.9   -9.9  unknown       NaN  \n",
        "3  0.183  34  0.204  38  0.211  -9.9   -9.9  unknown       NaN  \n",
        "4  0.283  32  0.321  33  0.228  -9.9   -9.9  unknown       NaN  \n",
        "0    False\n",
        "1    False\n",
        "2    False\n",
        "3    False\n",
        "4    False\n",
        "Name: classecl, dtype: bool\n",
        "0    unknown\n",
        "1    unknown\n",
        "2    unknown\n",
        "3    unknown\n",
        "4    unknown\n",
        "Name: cl, dtype: object"
       ]
      },
      {
       "output_type": "stream",
       "stream": "stdout",
       "text": [
        "\n",
        "        ID          ra       dec         P      r    ug    gr    ri    iz  gN  \\\n",
        "0  7909262  305.000258  1.002926  0.264939  18.39  2.26  1.05  0.44  0.29  38   \n",
        "1  7909350  304.999558 -1.219199  0.285250  16.93  1.94  0.88  0.30  0.23  36   \n",
        "2  7909380  305.000596  0.579517  0.279029  18.49  2.26  0.61  0.32  0.21  15   \n",
        "3  7909416  305.000342  0.579917  0.626289  16.34  1.06  0.42  0.13  0.00  34   \n",
        "4  7909472  305.000182  0.859918  0.365953  18.82  1.21  0.43  0.20  0.04  33   \n",
        "\n",
        "   gAmpl  rN  rAmpl  iN  iAmpl  zQSO  MiQSO       cl  \n",
        "0  0.327  40  0.250  40  0.267  -9.9   -9.9  unknown  \n",
        "1  0.369  35  0.283  35  0.336  -9.9   -9.9  unknown  \n",
        "2  0.397  16  0.586  17  0.360  -9.9   -9.9  unknown  \n",
        "3  0.183  34  0.204  38  0.211  -9.9   -9.9  unknown  \n",
        "4  0.283  32  0.321  33  0.228  -9.9   -9.9  unknown  \n"
       ]
      }
     ],
     "prompt_number": 66
    },
    {
     "cell_type": "code",
     "collapsed": false,
     "input": [
      "print(len(data))"
     ],
     "language": "python",
     "metadata": {},
     "outputs": [
      {
       "output_type": "stream",
       "stream": "stdout",
       "text": [
        "67466\n"
       ]
      }
     ],
     "prompt_number": 67
    },
    {
     "cell_type": "code",
     "collapsed": false,
     "input": [
      "###Most types found in https://www.aavso.org/vsx/index.php?view=about.vartypes\n",
      "data['temp_cl'] = '0'\n",
      "data['temp_cl'].loc[data['cl']=='unknown']='unknown'\n",
      "data['temp_cl'].loc[data['cl']==1]='ew' #W Ursae Majoris-type eclipsing variables\n",
      "data['temp_cl'].loc[data['cl']==2]='ea' #\u03b2 Persei-type (Algol) eclipsing systems\n",
      "data['temp_cl'].loc[data['cl']==3]='eb' #\u03b2 Lyrae-type eclipsing systems\n",
      "data['temp_cl'].loc[data['cl']==4]='rr_ab' #RR Lyrae variables with asymmetric light curves\n",
      "data['temp_cl'].loc[data['cl']==5]='rr_c' #RR Lyrae variables with nearly symmetric\n",
      "data['temp_cl'].loc[data['cl']==6]='rr_d' #Double-mode RR Lyrae stars which pulsate...\n",
      "data['temp_cl'].loc[data['cl']==7]='bl' #RR Lyrae stars showing the Blazhko effect.\n",
      "data['temp_cl'].loc[data['cl']==8]='rs' #non-eclipsing RS CVn stars\n",
      "data['temp_cl'].loc[data['cl']==9]='acep' #Anomalous Cepheids\n",
      "data['temp_cl'].loc[data['cl']==10]='cep-ii' ####need to confirm which star this is...\n",
      "data['temp_cl'].loc[data['cl']==11]='hads' #High Amplitude \u03b4 Scuti stars\n",
      "data['temp_cl'].loc[data['cl']==12]='lads'\n",
      "data['temp_cl'].loc[data['cl']==13]='lpv' #Long Period Variables \n",
      "data['temp_cl'].loc[data['cl']==14]='ell' #ellipsoidal binary system\n",
      "data['temp_cl'].loc[data['cl']==15]='hump' ####????\n",
      "data['temp_cl'].loc[data['cl']==16]='pceb' #post common envelope binary planetary system\n",
      "data['temp_cl'].loc[data['cl']==17]='ea_up' ####????\n",
      "print(data.head())\n",
      "data['cl'] = data['temp_cl']\n",
      "print(data.head())\n"
     ],
     "language": "python",
     "metadata": {},
     "outputs": [
      {
       "output_type": "stream",
       "stream": "stdout",
       "text": [
        "        ID          ra       dec         P      r    ug    gr    ri    iz  gN  \\\n",
        "0  7909262  305.000258  1.002926  0.264939  18.39  2.26  1.05  0.44  0.29  38   \n",
        "1  7909350  304.999558 -1.219199  0.285250  16.93  1.94  0.88  0.30  0.23  36   \n",
        "2  7909380  305.000596  0.579517  0.279029  18.49  2.26  0.61  0.32  0.21  15   \n",
        "3  7909416  305.000342  0.579917  0.626289  16.34  1.06  0.42  0.13  0.00  34   \n",
        "4  7909472  305.000182  0.859918  0.365953  18.82  1.21  0.43  0.20  0.04  33   \n",
        "\n",
        "   gAmpl  rN  rAmpl  iN  iAmpl  zQSO  MiQSO       cl  temp_cl  \n",
        "0  0.327  40  0.250  40  0.267  -9.9   -9.9  unknown  unknown  \n",
        "1  0.369  35  0.283  35  0.336  -9.9   -9.9  unknown  unknown  \n",
        "2  0.397  16  0.586  17  0.360  -9.9   -9.9  unknown  unknown  \n",
        "3  0.183  34  0.204  38  0.211  -9.9   -9.9  unknown  unknown  \n",
        "4  0.283  32  0.321  33  0.228  -9.9   -9.9  unknown  unknown  \n",
        "        ID          ra       dec         P      r    ug    gr    ri    iz  gN  \\\n",
        "0  7909262  305.000258  1.002926  0.264939  18.39  2.26  1.05  0.44  0.29  38   \n",
        "1  7909350  304.999558 -1.219199  0.285250  16.93  1.94  0.88  0.30  0.23  36   \n",
        "2  7909380  305.000596  0.579517  0.279029  18.49  2.26  0.61  0.32  0.21  15   \n",
        "3  7909416  305.000342  0.579917  0.626289  16.34  1.06  0.42  0.13  0.00  34   \n",
        "4  7909472  305.000182  0.859918  0.365953  18.82  1.21  0.43  0.20  0.04  33   \n",
        "\n",
        "   gAmpl  rN  rAmpl  iN  iAmpl  zQSO  MiQSO       cl  temp_cl  \n",
        "0  0.327  40  0.250  40  0.267  -9.9   -9.9  unknown  unknown  \n",
        "1  0.369  35  0.283  35  0.336  -9.9   -9.9  unknown  unknown  \n",
        "2  0.397  16  0.586  17  0.360  -9.9   -9.9  unknown  unknown  \n",
        "3  0.183  34  0.204  38  0.211  -9.9   -9.9  unknown  unknown  \n",
        "4  0.283  32  0.321  33  0.228  -9.9   -9.9  unknown  unknown  \n"
       ]
      }
     ],
     "prompt_number": 68
    },
    {
     "cell_type": "code",
     "collapsed": false,
     "input": [
      "print(data.head())\n",
      "del data['temp_cl']\n",
      "print(data.head())\n"
     ],
     "language": "python",
     "metadata": {},
     "outputs": [
      {
       "output_type": "stream",
       "stream": "stdout",
       "text": [
        "        ID          ra       dec         P      r    ug    gr    ri    iz  gN  \\\n",
        "0  7909262  305.000258  1.002926  0.264939  18.39  2.26  1.05  0.44  0.29  38   \n",
        "1  7909350  304.999558 -1.219199  0.285250  16.93  1.94  0.88  0.30  0.23  36   \n",
        "2  7909380  305.000596  0.579517  0.279029  18.49  2.26  0.61  0.32  0.21  15   \n",
        "3  7909416  305.000342  0.579917  0.626289  16.34  1.06  0.42  0.13  0.00  34   \n",
        "4  7909472  305.000182  0.859918  0.365953  18.82  1.21  0.43  0.20  0.04  33   \n",
        "\n",
        "   gAmpl  rN  rAmpl  iN  iAmpl  zQSO  MiQSO       cl  temp_cl  \n",
        "0  0.327  40  0.250  40  0.267  -9.9   -9.9  unknown  unknown  \n",
        "1  0.369  35  0.283  35  0.336  -9.9   -9.9  unknown  unknown  \n",
        "2  0.397  16  0.586  17  0.360  -9.9   -9.9  unknown  unknown  \n",
        "3  0.183  34  0.204  38  0.211  -9.9   -9.9  unknown  unknown  \n",
        "4  0.283  32  0.321  33  0.228  -9.9   -9.9  unknown  unknown  \n",
        "        ID          ra       dec         P      r    ug    gr    ri    iz  gN  \\\n",
        "0  7909262  305.000258  1.002926  0.264939  18.39  2.26  1.05  0.44  0.29  38   \n",
        "1  7909350  304.999558 -1.219199  0.285250  16.93  1.94  0.88  0.30  0.23  36   \n",
        "2  7909380  305.000596  0.579517  0.279029  18.49  2.26  0.61  0.32  0.21  15   \n",
        "3  7909416  305.000342  0.579917  0.626289  16.34  1.06  0.42  0.13  0.00  34   \n",
        "4  7909472  305.000182  0.859918  0.365953  18.82  1.21  0.43  0.20  0.04  33   \n",
        "\n",
        "   gAmpl  rN  rAmpl  iN  iAmpl  zQSO  MiQSO       cl  \n",
        "0  0.327  40  0.250  40  0.267  -9.9   -9.9  unknown  \n",
        "1  0.369  35  0.283  35  0.336  -9.9   -9.9  unknown  \n",
        "2  0.397  16  0.586  17  0.360  -9.9   -9.9  unknown  \n",
        "3  0.183  34  0.204  38  0.211  -9.9   -9.9  unknown  \n",
        "4  0.283  32  0.321  33  0.228  -9.9   -9.9  unknown  \n"
       ]
      }
     ],
     "prompt_number": 69
    },
    {
     "cell_type": "code",
     "collapsed": false,
     "input": [
      "print(len(data))"
     ],
     "language": "python",
     "metadata": {},
     "outputs": [
      {
       "output_type": "stream",
       "stream": "stdout",
       "text": [
        "67466\n"
       ]
      }
     ],
     "prompt_number": 70
    },
    {
     "cell_type": "code",
     "collapsed": false,
     "input": [
      "## output catalog\n",
      "print \"writing catalog . . .\"\n",
      "data.to_csv(outfile,sep=\" \",index=False)"
     ],
     "language": "python",
     "metadata": {},
     "outputs": [
      {
       "output_type": "stream",
       "stream": "stdout",
       "text": [
        "writing catalog . . .\n"
       ]
      }
     ],
     "prompt_number": 71
    },
    {
     "cell_type": "code",
     "collapsed": false,
     "input": [],
     "language": "python",
     "metadata": {},
     "outputs": []
    }
   ],
   "metadata": {}
  }
 ]
}