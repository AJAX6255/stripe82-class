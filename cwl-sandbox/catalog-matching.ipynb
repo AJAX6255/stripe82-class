{
 "metadata": {
  "name": "",
  "signature": "sha256:2dfdcd2df9b614509c84331a793694787e2c6c4b8a0c5d1d5d88b6e03765b9ec"
 },
 "nbformat": 3,
 "nbformat_minor": 0,
 "worksheets": [
  {
   "cells": [
    {
     "cell_type": "code",
     "collapsed": false,
     "input": [
      "from astropy.coordinates import ICRS\n",
      "from astropy import units as u\n",
      "import numpy as np\n",
      "from astropy.coordinates import SkyCoord\n",
      "from astropy.table import Table\n",
      "%matplotlib inline\n",
      "from matplotlib import pyplot as plt\n",
      "\n",
      "\n",
      "\n",
      "\n",
      "catalina = Table.read('catalina-catalog.txt', format='ascii')\n",
      "stripe_82 = Table.read('catalog.txt', format='ascii')\n",
      "print(catalina['RA_(J2000)'][0:15])\n",
      "print(catalina['Dec'][0:15])\n",
      "print(stripe_82[0:15])\n",
      "#assume ra1/dec1 and ra/dec2 are arrays loaded from some file\n",
      "#c = ICRS(ra1, dec1, unit=(u.degree, u.degree))\n",
      "#catalog = ICRS(ra2, dec2, unit=(u.degree, u.degree))\n",
      "#idx, d2d, d3d = c.match_to_catalog_sky(catalog)\n",
      "#from astropy.coordinates import match_coordinates_sky\n",
      "#idx, d2d, d3d = match_coordinates_sky(c1, catalog)  # same thing"
     ],
     "language": "python",
     "metadata": {},
     "outputs": [
      {
       "output_type": "stream",
       "stream": "stdout",
       "text": [
        " RA_(J2000)\n",
        "-----------\n",
        "00:00:20.41\n",
        "00:00:31.50\n",
        "00:00:36.94\n",
        "00:00:37.55\n",
        "00:01:03.37\n",
        "00:01:03.46\n",
        "00:01:06.96\n",
        "00:01:10.89\n",
        "00:01:31.54\n",
        "00:01:41.28\n",
        "00:01:42.28\n",
        "00:01:53.94\n",
        "00:02:04.05\n",
        "00:02:05.90\n",
        "00:02:07.14\n",
        "    Dec    \n",
        "-----------\n",
        "+10:31:18.9\n",
        "-08:46:52.3\n",
        "+41:28:05.7\n",
        "+39:03:08.1\n",
        "+10:57:24.4\n",
        "+39:57:44.5\n",
        "+12:06:10.3\n",
        "+40:05:21.1\n",
        "+32:49:13.1\n",
        "+42:11:08.2\n",
        "+37:49:56.4\n",
        "+32:35:30.2\n",
        "+28:56:30.0\n",
        "+30:06:06.1\n",
        "+42:48:19.3\n",
        "   ID       ra        dec        P       r   ...  iN iAmpl zQSO MiQSO    cl  \n",
        "------- ---------- --------- --------- ----- ... --- ----- ---- ----- -------\n",
        "7908792 299.999979  0.167449  0.487131 16.38 ...  21 0.061 -9.9  -9.9 unknown\n",
        "7908819 299.999491 -0.836985 0.2432355  18.1 ...  27 0.311 -9.9  -9.9 unknown\n",
        "7908923 300.001032 -0.634235 0.9423657 17.97 ...  24 0.078 -9.9  -9.9 unknown\n",
        "7909008 299.999305  1.003593 0.3169349 15.49 ...  22 0.076 -9.9  -9.9 unknown\n",
        "7909076 299.999376  0.833475 0.3819528 17.57 ...  27 0.207 -9.9  -9.9 unknown\n",
        "7909092 299.998914  0.482603 0.2651162 15.37 ...  25 0.049 -9.9  -9.9 unknown\n",
        "7909115  299.99905 -0.837205 0.3388937 18.38 ...  30 0.222 -9.9  -9.9 unknown\n",
        "7909262 305.000258  1.002926 0.2649388 18.39 ...  40 0.267 -9.9  -9.9 unknown\n",
        "7909350 304.999558 -1.219199   0.28525 16.93 ...  35 0.336 -9.9  -9.9 unknown\n",
        "7909380 305.000596  0.579517 0.2790295 18.49 ...  17  0.36 -9.9  -9.9 unknown\n",
        "7909416 305.000342  0.579917 0.6262892 16.34 ...  38 0.211 -9.9  -9.9 unknown\n",
        "7909472 305.000182  0.859918 0.3659534 18.82 ...  33 0.228 -9.9  -9.9 unknown\n",
        "7909490 305.001291 -0.570005 0.9181872 18.65 ...  12 0.354 -9.9  -9.9 unknown\n",
        "7909542 305.000239  0.604369 0.3963357 19.49 ...  31 0.128 -9.9  -9.9 unknown\n",
        "7909641  304.99978 -0.704951 0.3211124 18.24 ...  40  0.13 -9.9  -9.9 unknown\n"
       ]
      }
     ],
     "prompt_number": 32
    },
    {
     "cell_type": "code",
     "collapsed": false,
     "input": [
      "print(len(catalina))\n",
      "print(len(stripe_82))"
     ],
     "language": "python",
     "metadata": {},
     "outputs": [
      {
       "output_type": "stream",
       "stream": "stdout",
       "text": [
        "47055\n",
        "67473\n"
       ]
      }
     ],
     "prompt_number": 11
    },
    {
     "cell_type": "code",
     "collapsed": false,
     "input": [
      "coo_catalina = SkyCoord(catalina['RA_(J2000)'], catalina['Dec'], unit=(u.hour, u.deg))"
     ],
     "language": "python",
     "metadata": {},
     "outputs": [],
     "prompt_number": 24
    },
    {
     "cell_type": "code",
     "collapsed": false,
     "input": [
      "coo_catalina_2 = SkyCoord(catalina['RA_(J2000)'], catalina['Dec'], unit=(u.hour, u.deg),frame='icrs')"
     ],
     "language": "python",
     "metadata": {},
     "outputs": [],
     "prompt_number": 34
    },
    {
     "cell_type": "code",
     "collapsed": false,
     "input": [
      "coo_catalina_icrs = ICRS(catalina['RA_(J2000)'], catalina['Dec'], unit=(u.hour, u.deg))"
     ],
     "language": "python",
     "metadata": {},
     "outputs": [
      {
       "output_type": "stream",
       "stream": "stderr",
       "text": [
        "WARNING: AstropyDeprecationWarning: Initializing frame classes like \"ICRS\" using string or other non-Quantity arguments is deprecated, and will be removed in the next version of Astropy.  Instead, you probably want to use the SkyCoord class with the \"frame=icrs\" keyword, or if you really want to use the low-level frame classes, create it with an Angle or Quantity. [astropy.coordinates.baseframe]\n",
        "WARNING:astropy:AstropyDeprecationWarning: Initializing frame classes like \"ICRS\" using string or other non-Quantity arguments is deprecated, and will be removed in the next version of Astropy.  Instead, you probably want to use the SkyCoord class with the \"frame=icrs\" keyword, or if you really want to use the low-level frame classes, create it with an Angle or Quantity.\n"
       ]
      }
     ],
     "prompt_number": 33
    },
    {
     "cell_type": "code",
     "collapsed": false,
     "input": [
      "coo_stripe_82 = SkyCoord(stripe_82['ra'], stripe_82['dec'], unit=(u.deg, u.deg))"
     ],
     "language": "python",
     "metadata": {},
     "outputs": [],
     "prompt_number": 25
    },
    {
     "cell_type": "code",
     "collapsed": false,
     "input": [
      "coo_stripe_82_2 = SkyCoord(stripe_82['ra'], stripe_82['dec'], unit=(u.deg, u.deg), frame='icrs')"
     ],
     "language": "python",
     "metadata": {},
     "outputs": [],
     "prompt_number": 35
    },
    {
     "cell_type": "code",
     "collapsed": false,
     "input": [
      "coo_stripe_82_icrs = ICRS(stripe_82['ra'], stripe_82['dec'], unit=(u.deg, u.deg))"
     ],
     "language": "python",
     "metadata": {},
     "outputs": [],
     "prompt_number": 36
    },
    {
     "cell_type": "code",
     "collapsed": false,
     "input": [
      "idx_stripe_82, d2d_stripe_82, d3d_stripe_82 = coo_catalina.match_to_catalog_3d(coo_stripe_82)"
     ],
     "language": "python",
     "metadata": {},
     "outputs": [],
     "prompt_number": 52
    },
    {
     "cell_type": "code",
     "collapsed": false,
     "input": [
      "idx_stripe_82_2, d2d_stripe_82_2, d3d_stripe_82_2 = coo_catalina_2.match_to_catalog_sky(coo_stripe_82_2)"
     ],
     "language": "python",
     "metadata": {},
     "outputs": [],
     "prompt_number": 37
    },
    {
     "cell_type": "code",
     "collapsed": false,
     "input": [
      "idx_stripe_82_icrs, d2d_stripe_82_icrs, d3d_stripe_82_icrs = coo_catalina_icrs.match_to_catalog_sky(coo_stripe_82_icrs)"
     ],
     "language": "python",
     "metadata": {},
     "outputs": [],
     "prompt_number": 38
    },
    {
     "cell_type": "code",
     "collapsed": false,
     "input": [
      "matches = coo_stripe_82[idx_stripe_82]"
     ],
     "language": "python",
     "metadata": {},
     "outputs": [],
     "prompt_number": 58
    },
    {
     "cell_type": "code",
     "collapsed": false,
     "input": [
      "print(idx_stripe_82[0:1000])"
     ],
     "language": "python",
     "metadata": {},
     "outputs": [
      {
       "output_type": "stream",
       "stream": "stdout",
       "text": [
        "[29850 29266 29850 29850 29850 29850 29850 29850 29850 29850 29850 29850\n",
        " 29850 29850 29850   764   764 29850 29850 29850 29850 29850 29850   689\n",
        "   689   689   689   689   689   793   329   329   689   329   329   689\n",
        "   689   225   225   225   329   225   329   329   225   225   225   749\n",
        "   749   225   225   225   225   749   225   749   225   225   225   225\n",
        "   225   225   225   826   826   826   826   826   826   743   743   743\n",
        "   826   678   743   743   743   743   743   743   743   743   743   743\n",
        "   743   826   826   743   743   743   743   743   826   826   743   743\n",
        "   743   826   743   743   743   743   743   743   826   743   826   743\n",
        "   743   826   421   743   743   743   743   619   743   619   743   619\n",
        "   743   619   743   619   421   743   421   619   619   619   743   743\n",
        "   619   743   421   421   421   619   619   619   619   619   619   619\n",
        "   619   619   619   619   619   619   619   421   619   619   619   421\n",
        "   619   619   619   619   692   619   619   619   619   619   619   619\n",
        "   619   619   619   619   619   692   692   619   692   692   619   619\n",
        "   619   692   619   619   619   692   619   619   843   843   619   619\n",
        "   619   361   619   843   843   619   619   843   843   619   619   619\n",
        "   619   619   619   619   843   619   555   555   619   619   555   843\n",
        "   619   555   619   555   555   619   555   555   843 30770   555 30770\n",
        "   555   843 30770   555   555   555   555 30770 30770 30770 30770 30770\n",
        " 30770 30770   555   843   555   555 30770   555   555   443 30770 30770\n",
        "   555   555   555 30770 30770 30770   555 30869 30770 30770 30770 30770\n",
        "   555 30770 30770 30770 30770 30770 30770 30770 30770 30770 30630 30770\n",
        " 30770 30770 30770 30630 30770 30770 30770 30770 30770 30770 30770 30869\n",
        " 30770 30869 30770 30770 30770 30770 30770 30869 30770 30770 30770 30770\n",
        " 30770 30770 30770 30770 30770 30869 30869 30770 30770 30770 30770 30770\n",
        " 30770 30770 30770 30770 30770 30770 30770 30869 30770 30770 30869 30770\n",
        " 30770 30770 30770 30161 30869 30770 30770 30161 30770 30161 30770 30770\n",
        " 30770 30770 30770 30770 30770 30770 30161 30161 30770 30161 30770 30770\n",
        " 30770 30770 30770 30770 30770 30770 30770 30770 30161 30770 30770 30770\n",
        " 30770 30770 30770 30770 30770 30770 30770 30161 30770 30770 30770 30770\n",
        " 30758 30770 30161 30770 30770 30161 30770 30770 30770 30770 30770 30770\n",
        " 30770 30770 30770 30770 30770 30770 30770 30324 30532 30532 30324 30324\n",
        " 30770 30532 30324 30324 30532 30324 30532 30532 30770 30324 30532 30324\n",
        " 30734 30532 30324 30324 30734 30532 30324 30734 30324 30734 30324 30324\n",
        " 30324 30324 30324 30324 30324 30734 30324 30734 30734 30324 30324 30324\n",
        " 30324 30324 30324 30324 30324 30324 30324 30324 30532 30324 30324 30324\n",
        " 30324 30324 30324 30786 30324 30734 30324 30138 30324 30324 30324 30324\n",
        " 30324 30324 30324 30324 30786 30324 30324 30324 30324 30324 30786 30324\n",
        " 30324 30786 30324 30324 30324 30324 30324 30786 30324 30324 30786 30324\n",
        " 30324 30324 30324 30786 30324 30324 30324 30324 30324 30324 30324 30324\n",
        " 30324 30324 30786 30324 30324 30324 30324 30324 30324 30324 30324 30324\n",
        " 30324 30324 30324 30324 30324 30324 30324 30324 30324 30324 30786 30324\n",
        " 30324 30324 30324 30786 30324 30324 30324 30324 30324 30786 30324 30786\n",
        " 30324 30786 30324 30324 30324 30324 30324 30324 30324 30324 30324 30324\n",
        " 30324 30324 30324 30324 30324 30760 30324 30324 30324 30324 30324 30324\n",
        " 30324 30324 30324 30324 30324 30458 30324 30203 30324 30324 30203 30203\n",
        " 30324 30203 30203 30324 30458 30324 30324 30203 30203 30324 30458 30324\n",
        " 30324 30458 30324 30458 30203 30203 30203 30203 30458 30203 30458 30203\n",
        " 30203 30458 30203 30203 30203 30203 30458 30203 30203 30203 30203 30203\n",
        " 30203 30203 30203 30203 30203 30865 30203 30203 30203 30203 30865 30203\n",
        " 30203 30203 30203 30865 30203 30203 30203 30203 30203 30203 30203 30203\n",
        " 30203 30608 30865 30203 30203 30203 30203 30203 30203 30203 30203 30203\n",
        " 30203 30203 30203 30182 30608 30203 30551 30182 30865 30203 30182 30182\n",
        " 30865 30182 30182 30865 30865 30203 30182 30653 30182 30182 30182 30865\n",
        " 30182 30182 30551 30182 30182 30182 30865 30865 30182 30182 30182 30182\n",
        " 30182 30182 30182 30182 30182 30182 30865 30865 30984 30865 30865 30182\n",
        " 30182 30865 30865 30182 30182 30182 30865 30182 30551 30865 30182 30182\n",
        " 30182 30182 30182 30868 30182 30182 30182 30750 30182 30182 30182 30182\n",
        " 30182 30182 30182 30182 30182 30182 30552 30182 30182 30182 30182 30182\n",
        " 30552 30182 30182 30182 30552 30182 30182 30182 30182 30552 30182 30182\n",
        " 30182 30182 30182 30182 30182 30182 30182 30552 30182 30182 30182 30182\n",
        " 30182 30552 30182 30182 30552 30182 30182 30182 30182 30182 30182 30182\n",
        " 30182 30182 30239 30182 30182 30182 30182 30182 30182 30901 30182 30182\n",
        " 30182 30182 30182 30239 30182 30182 30182 30239 30182 30182 30182 30182\n",
        " 30239 30182 30182 30167 30167 30944 30182 30167 30182 30167 30167 30167\n",
        " 30239 30167 30167 30167 30239 30239 30167 30167 30167 30167 30167 30167\n",
        " 30167 30167 30239 30167 30167 30167 30167 30167 30167 30167 30167 30167\n",
        " 30167 30167 30167 30167 30167 30167 30167  1531 30167 30167 30167 30167\n",
        "  1531 30167 30167  1813  1025  1813  1813  1813  1813  1813  1813  1813\n",
        "  1531  1813  1592  1813  1813  1592  1568  1531  1813  1813  1813  1813\n",
        "  1813  1531  1531  1592  1813  1813  1653  1592  1592  1813  1813  1813\n",
        "  1813  1813  1813  1813  1813  1813  1813  1813  1813  1813  1813  1813\n",
        "  1592  1813  1813  1813  1813  1592  1813  1813  1813  1640  1813  1813\n",
        "  1813  1813  1556  1813  1278  1813  1813  1775  1813  1813  1813  1556\n",
        "  1813  1813  1813  1813  1813  1813  1813  1813  1813  1664  1813  1813\n",
        "  1813  1556  1813  1813  1813  1813  1813  1813  1813  1813  1813  1592\n",
        "  1415  1813  1415  1813  1813  1813  1813  1415  1813  1813  1813  1813\n",
        "  1813  1415  1415  1813  1415  1813  1813  1813  1813  1813  1450  1813\n",
        "  1415  1813  1813  1450  1813  1813  1450  1450  1813  1813  1813  1450\n",
        "  1813  1813  1450  1450  1415  1813  1450  1765  1450  1450  1450  1813\n",
        "  1813  1450  1813  1813  1450  1813  1813  1813  1450  1813  1813  1813\n",
        "  1450  1450  1450  1538  1450  1450  1190  1450  1190  1450  1450  1190\n",
        "  1450  1450  1190  1190]\n"
       ]
      }
     ],
     "prompt_number": 62
    },
    {
     "cell_type": "code",
     "collapsed": false,
     "input": [
      "plt.hist(d2d_stripe_82.arcsec, histtype='step', range=(0,5))\n",
      "plt.xlabel('separation [arcsec]')"
     ],
     "language": "python",
     "metadata": {},
     "outputs": [
      {
       "metadata": {},
       "output_type": "pyout",
       "prompt_number": 56,
       "text": [
        "<matplotlib.text.Text at 0x7f482a1909d0>"
       ]
      },
      {
       "metadata": {},
       "output_type": "display_data",
       "png": "[encoded data removed]",
       "text": [
        "<matplotlib.figure.Figure at 0x7f4827ef4290>"
       ]
      }
     ],
     "prompt_number": 56
    },
    {
     "cell_type": "code",
     "collapsed": false,
     "input": [
      "plt.hist(d2d_stripe_82_2.arcsec, histtype='step', range=(0,2))\n",
      "plt.xlabel('separation [arcsec]')"
     ],
     "language": "python",
     "metadata": {},
     "outputs": [
      {
       "metadata": {},
       "output_type": "pyout",
       "prompt_number": 39,
       "text": [
        "<matplotlib.text.Text at 0x7f482566dd10>"
       ]
      },
      {
       "metadata": {},
       "output_type": "display_data",
       "png": "[encoded data removed]",
       "text": [
        "<matplotlib.figure.Figure at 0x7f482560fe90>"
       ]
      }
     ],
     "prompt_number": 39
    },
    {
     "cell_type": "code",
     "collapsed": false,
     "input": [
      "plt.hist(d2d_stripe_82_icrs.arcsec, histtype='step', range=(0,2))\n",
      "plt.xlabel('separation [arcsec]')"
     ],
     "language": "python",
     "metadata": {},
     "outputs": [
      {
       "metadata": {},
       "output_type": "pyout",
       "prompt_number": 40,
       "text": [
        "<matplotlib.text.Text at 0x7f48202289d0>"
       ]
      },
      {
       "metadata": {},
       "output_type": "display_data",
       "png": "[encoded data removed]",
       "text": [
        "<matplotlib.figure.Figure at 0x7f48215383d0>"
       ]
      }
     ],
     "prompt_number": 40
    },
    {
     "cell_type": "code",
     "collapsed": false,
     "input": [
      "matches = catalina[idx_stripe_82]\n",
      "print(matches[0:15])"
     ],
     "language": "python",
     "metadata": {},
     "outputs": [
      {
       "ename": "IndexError",
       "evalue": "index 58303 is out of bounds for axis 1 with size 47055",
       "output_type": "pyerr",
       "traceback": [
        "\u001b[0;31m---------------------------------------------------------------------------\u001b[0m\n\u001b[0;31mIndexError\u001b[0m                                Traceback (most recent call last)",
        "\u001b[0;32m<ipython-input-55-051a71095889>\u001b[0m in \u001b[0;36m<module>\u001b[0;34m()\u001b[0m\n\u001b[0;32m----> 1\u001b[0;31m \u001b[0mmatches\u001b[0m \u001b[0;34m=\u001b[0m \u001b[0mcatalina\u001b[0m\u001b[0;34m[\u001b[0m\u001b[0midx_stripe_82\u001b[0m\u001b[0;34m]\u001b[0m\u001b[0;34m\u001b[0m\u001b[0m\n\u001b[0m\u001b[1;32m      2\u001b[0m \u001b[0;32mprint\u001b[0m\u001b[0;34m(\u001b[0m\u001b[0mmatches\u001b[0m\u001b[0;34m[\u001b[0m\u001b[0;36m0\u001b[0m\u001b[0;34m:\u001b[0m\u001b[0;36m15\u001b[0m\u001b[0;34m]\u001b[0m\u001b[0;34m)\u001b[0m\u001b[0;34m\u001b[0m\u001b[0m\n",
        "\u001b[0;32m/usr/local/lib/python2.7/dist-packages/astropy/table/table.pyc\u001b[0m in \u001b[0;36m__getitem__\u001b[0;34m(self, item)\u001b[0m\n\u001b[1;32m    872\u001b[0m             \u001b[0;31m# is produced by np.where, as in t[np.where(t['a'] > 2)]\u001b[0m\u001b[0;34m\u001b[0m\u001b[0;34m\u001b[0m\u001b[0m\n\u001b[1;32m    873\u001b[0m             \u001b[0;31m# For all, a new table is constructed with slice of all columns\u001b[0m\u001b[0;34m\u001b[0m\u001b[0;34m\u001b[0m\u001b[0m\n\u001b[0;32m--> 874\u001b[0;31m             \u001b[0;32mreturn\u001b[0m \u001b[0mself\u001b[0m\u001b[0;34m.\u001b[0m\u001b[0m_new_from_slice\u001b[0m\u001b[0;34m(\u001b[0m\u001b[0mitem\u001b[0m\u001b[0;34m)\u001b[0m\u001b[0;34m\u001b[0m\u001b[0m\n\u001b[0m\u001b[1;32m    875\u001b[0m         \u001b[0;32melse\u001b[0m\u001b[0;34m:\u001b[0m\u001b[0;34m\u001b[0m\u001b[0m\n\u001b[1;32m    876\u001b[0m             raise ValueError('Illegal type {0} for table item access'\n",
        "\u001b[0;32m/usr/local/lib/python2.7/dist-packages/astropy/table/table.pyc\u001b[0m in \u001b[0;36m_new_from_slice\u001b[0;34m(self, slice_)\u001b[0m\n\u001b[1;32m    551\u001b[0m         \u001b[0mcols\u001b[0m \u001b[0;34m=\u001b[0m \u001b[0mself\u001b[0m\u001b[0;34m.\u001b[0m\u001b[0mcolumns\u001b[0m\u001b[0;34m.\u001b[0m\u001b[0mvalues\u001b[0m\u001b[0;34m(\u001b[0m\u001b[0;34m)\u001b[0m\u001b[0;34m\u001b[0m\u001b[0m\n\u001b[1;32m    552\u001b[0m         \u001b[0mnames\u001b[0m \u001b[0;34m=\u001b[0m \u001b[0;34m[\u001b[0m\u001b[0mcol_getattr\u001b[0m\u001b[0;34m(\u001b[0m\u001b[0mcol\u001b[0m\u001b[0;34m,\u001b[0m \u001b[0;34m'name'\u001b[0m\u001b[0;34m)\u001b[0m \u001b[0;32mfor\u001b[0m \u001b[0mcol\u001b[0m \u001b[0;32min\u001b[0m \u001b[0mcols\u001b[0m\u001b[0;34m]\u001b[0m\u001b[0;34m\u001b[0m\u001b[0m\n\u001b[0;32m--> 553\u001b[0;31m         \u001b[0mnewcols\u001b[0m \u001b[0;34m=\u001b[0m \u001b[0;34m[\u001b[0m\u001b[0mcol\u001b[0m\u001b[0;34m[\u001b[0m\u001b[0mslice_\u001b[0m\u001b[0;34m]\u001b[0m \u001b[0;32mfor\u001b[0m \u001b[0mcol\u001b[0m \u001b[0;32min\u001b[0m \u001b[0mcols\u001b[0m\u001b[0;34m]\u001b[0m\u001b[0;34m\u001b[0m\u001b[0m\n\u001b[0m\u001b[1;32m    554\u001b[0m \u001b[0;34m\u001b[0m\u001b[0m\n\u001b[1;32m    555\u001b[0m         \u001b[0;31m# Mixin column classes are not responsible for copying column attributes\u001b[0m\u001b[0;34m\u001b[0m\u001b[0;34m\u001b[0m\u001b[0m\n",
        "\u001b[0;32m/usr/local/lib/python2.7/dist-packages/astropy/table/column.pyc\u001b[0m in \u001b[0;36m__getitem__\u001b[0;34m(self, item)\u001b[0m\n\u001b[1;32m    328\u001b[0m             \u001b[0;32mreturn\u001b[0m \u001b[0mself\u001b[0m\u001b[0;34m.\u001b[0m\u001b[0mdata\u001b[0m\u001b[0;34m[\u001b[0m\u001b[0mitem\u001b[0m\u001b[0;34m]\u001b[0m  \u001b[0;31m# Return as plain ndarray or ma.MaskedArray\u001b[0m\u001b[0;34m\u001b[0m\u001b[0m\n\u001b[1;32m    329\u001b[0m         \u001b[0;32melse\u001b[0m\u001b[0;34m:\u001b[0m\u001b[0;34m\u001b[0m\u001b[0m\n\u001b[0;32m--> 330\u001b[0;31m             \u001b[0;32mreturn\u001b[0m \u001b[0msuper\u001b[0m\u001b[0;34m(\u001b[0m\u001b[0mBaseColumn\u001b[0m\u001b[0;34m,\u001b[0m \u001b[0mself\u001b[0m\u001b[0;34m)\u001b[0m\u001b[0;34m.\u001b[0m\u001b[0m__getitem__\u001b[0m\u001b[0;34m(\u001b[0m\u001b[0mitem\u001b[0m\u001b[0;34m)\u001b[0m\u001b[0;34m\u001b[0m\u001b[0m\n\u001b[0m\u001b[1;32m    331\u001b[0m \u001b[0;34m\u001b[0m\u001b[0m\n\u001b[1;32m    332\u001b[0m     \u001b[0;31m# avoid == and != to be done based on type of subclass\u001b[0m\u001b[0;34m\u001b[0m\u001b[0;34m\u001b[0m\u001b[0m\n",
        "\u001b[0;31mIndexError\u001b[0m: index 58303 is out of bounds for axis 1 with size 47055"
       ]
      }
     ],
     "prompt_number": 55
    },
    {
     "cell_type": "code",
     "collapsed": false,
     "input": [
      "(matches.separation_3d(stripe_82) == d3d_stripe_82).all()"
     ],
     "language": "python",
     "metadata": {},
     "outputs": [
      {
       "ename": "AttributeError",
       "evalue": "'Table' object has no attribute 'separation_3d'",
       "output_type": "pyerr",
       "traceback": [
        "\u001b[0;31m---------------------------------------------------------------------------\u001b[0m\n\u001b[0;31mAttributeError\u001b[0m                            Traceback (most recent call last)",
        "\u001b[0;32m<ipython-input-54-78b7d365145c>\u001b[0m in \u001b[0;36m<module>\u001b[0;34m()\u001b[0m\n\u001b[0;32m----> 1\u001b[0;31m \u001b[0;34m(\u001b[0m\u001b[0mmatches\u001b[0m\u001b[0;34m.\u001b[0m\u001b[0mseparation_3d\u001b[0m\u001b[0;34m(\u001b[0m\u001b[0mstripe_82\u001b[0m\u001b[0;34m)\u001b[0m \u001b[0;34m==\u001b[0m \u001b[0md3d_stripe_82\u001b[0m\u001b[0;34m)\u001b[0m\u001b[0;34m.\u001b[0m\u001b[0mall\u001b[0m\u001b[0;34m(\u001b[0m\u001b[0;34m)\u001b[0m\u001b[0;34m\u001b[0m\u001b[0m\n\u001b[0m",
        "\u001b[0;31mAttributeError\u001b[0m: 'Table' object has no attribute 'separation_3d'"
       ]
      }
     ],
     "prompt_number": 54
    },
    {
     "cell_type": "code",
     "collapsed": false,
     "input": [],
     "language": "python",
     "metadata": {},
     "outputs": []
    }
   ],
   "metadata": {}
  }
 ]
}